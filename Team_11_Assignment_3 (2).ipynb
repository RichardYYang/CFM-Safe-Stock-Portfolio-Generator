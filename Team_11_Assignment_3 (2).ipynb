{
 "cells": [
  {
   "cell_type": "code",
   "execution_count": 1,
   "metadata": {},
   "outputs": [],
   "source": [
    "from IPython.display import display, Math, Latex\n",
    "\n",
    "import pandas as pd\n",
    "import numpy as np\n",
    "import numpy_financial as npf\n",
    "import yfinance as yf\n",
    "import matplotlib.pyplot as plt\n",
    "from datetime import datetime\n",
    "import concurrent.futures"
   ]
  },
  {
   "cell_type": "markdown",
   "metadata": {},
   "source": [
    "## Group Assignment\n",
    "### Team Number: 11\n",
    "### Team Member Names: Richard Yang, William Zhang, Soham Basu\n",
    "### Team Strategy Chosen: SAFE"
   ]
  },
  {
   "cell_type": "code",
   "execution_count": 2,
   "metadata": {},
   "outputs": [],
   "source": [
    "# Extract all the tickers from the csv file\n",
    "# Use loop to append tickers into a empty list called tickers_lst one by one\n",
    "givenTickers = pd.read_csv('Tickers.csv')\n",
    "tickers_lst = []\n",
    "for i in range(len(givenTickers)):\n",
    "    tickers_lst.append(givenTickers.iloc[i, 0])\n",
    "\n",
    "\n",
    "# Function outputs true if the stock is in USD, otherwise false\n",
    "# The parameter is a string representing the ticker name\n",
    "def currencyUSD(stock):\n",
    "    if stock.info['currency'] == 'USD':\n",
    "        return True\n",
    "    else:\n",
    "        return False\n",
    "\n",
    "# Function outputs true if the stock has a daily average volume of at least 10000 shares in a given time period, otherwise false\n",
    "# The first parameter is a string representing the ticker name, the second and third parameter specify the time period\n",
    "def volume10000(stock, start_date, end_date):\n",
    "    hist = stock.history(start=start_date, end=end_date)\n",
    "    if hist['Volume'].mean() >= 10000:\n",
    "        return True\n",
    "    else:\n",
    "        return False"
   ]
  },
  {
   "cell_type": "code",
   "execution_count": 3,
   "metadata": {},
   "outputs": [],
   "source": [
    "# Create an empty list filterTickers, then filter out stocks that meet the following requirements:\n",
    "# 1. It is a US listed stock\n",
    "# 2. Has a daily average volume of at least 10000 shares from July 02, 2021 to October 22, 2021\n",
    "filterTickers = []\n",
    "start_date = '2021-07-02'\n",
    "end_date = '2021-10-22'\n",
    "\n",
    "# The parameter is a string\n",
    "# This function will firstly check if the ticker is valid or not(we use .info['regularMarketPrice'] to do that)\n",
    "# Once the ticker is valid, the function will check whether the stock meet BOTH two requirements stated above\n",
    "# If the ticker meets all the requriements, the function will append this ticker into \"filterTicker\" list\n",
    "\n",
    "\n",
    "def filterStocks(ticker):\n",
    "    stock = yf.Ticker(ticker)\n",
    "    if stock.info['regularMarketPrice'] is not None:\n",
    "        if currencyUSD(stock) & volume10000(stock, start_date, end_date):\n",
    "            filterTickers.append(ticker)\n",
    "\n",
    "#NEW CODE -- Used for threading \n",
    "with concurrent.futures.ThreadPoolExecutor() as executor:\n",
    "    executor.map(filterStocks, tickers_lst)"
   ]
  },
  {
   "cell_type": "code",
   "execution_count": 4,
   "metadata": {},
   "outputs": [],
   "source": [
    "#NEW CODE\n",
    "#Removes duplicates in list of tickers\n",
    "filterTickers = list(dict.fromkeys(filterTickers))"
   ]
  },
  {
   "cell_type": "markdown",
   "metadata": {},
   "source": [
    "Volatility/Standard Deviation: \n",
    "\n",
    "Weight: 45% \n",
    "\n",
    "Volatility maps how much a stock deviates over a certain period. The stocks that have lower volatility deviate less. The less a stock deviates, the safer it is. The reason volatility has such a high weighting in our overall score is because of its ability to weed out the riskiest stocks from our portfolio by assigning them a low score. We were also aiming to find a balance between volatility in the short-term and long-term. The pandemic has had a major impact on stock prices over the last 2 years, which is why we also wanted to look at historical data over the last 10 years to get a bigger picture. That is why our final volatility calculates a weighted average of the volatility over the last 2 years, worth 25%, and the volatility over the last 10 years, worth 75% of the final volatility.  \n",
    "\n",
    " \n",
    "\n",
    "Sharpe Ratio: \n",
    "\n",
    "Weight: 40% \n",
    "\n",
    "Sharpe ratio is a way to measure how much return an investor can get per unit of risk. It takes both the average return and standard deviation into account. This allows us to look at whether the stock is worth buying. One potential dilemma with the sharpe ratio is that a stock with a low return and volatility has the same sharpe ratio as a stock with a high return and high volatility. Since we are trying to build a portfolio of safe stocks, it is important that we get rid of most stocks with high volatilities. In our portfolio, we can do this by giving standard deviation a high weighting, allowing it to weed out the riskiest of stocks. Once again, in order to get a balance between sharpe ratio in the short-term and sharpe ratio in the long term, we calculated mean return using a weighted average of the return over the last 2 years, worth 25%, and the return over the last 10 years, worth 75%.  \n",
    "\n",
    " \n",
    "\n",
    "Covariance: \n",
    "\n",
    "Weight: 10% \n",
    "\n",
    "We choose stocks which have high covariance with S&P 500. This is to find stocks that basically follow the market trend. That means the stocks do not have high non-systematic risk. Since the market index like S&P 500 normally has low volatility, stocks chosen based on this criterion will be safe.  \n",
    "\n",
    " \n",
    "\n",
    "Moving Price Average: \n",
    "\n",
    "Weight: 5% \n",
    "\n",
    "The reason for looking at the Two Hundred Moving Price Average is simply to get another indicator to see how safe the stock is. The closer a stock is to its moving price average, the more likely that it is a safer stock as it likely deviates less than other, more riskier stocks. Of course, a really risky stock could just happen to be very close to its moving price average; however, when combined with other indicators such as volatility and covariance, moving price average is a good way of finding safe stocks.  \n",
    "\n",
    " \n",
    "\n",
    "We wanted to use a variety of indicators such as volatility, sharpe ratio, covariance with the S&P 500 index, and moving price average. In addition, the data used to calculate many of these indicators aimed to strike a balance between the short-term stock history and long-term stock history. This helps to diversify our indicators and allows us to pick better stocks. Say for example, a stock gets a poor correlation with the S&P 500. If other factors such as volatility and moving price average show that the stock is safe, then it has a high chance of still being included in our portfolio. We decided the weights for each indicator based on how well each indicator can predict how safe a stock is. Multiple portfolios have been generated using different weights for the indicators, and this was found to be the optimal weighting. "
   ]
  },
  {
   "cell_type": "code",
   "execution_count": 5,
   "metadata": {},
   "outputs": [],
   "source": [
    "# uses factors such as a stock's volatility/standard deviation, sharpe ratio, covariance, and moving price average\n",
    "# to assign each stock a score\n",
    "# the higher the score, the safer the stock is and the better it is for our portfolio\n",
    "def calculateScore(stockInfo, stockHist_2, stockHist_10, price, indexHist):\n",
    "\n",
    "    # finds volatility (standard deviation) using the daily log returns in terms of percentage, \n",
    "    # and finds the volatility as an annual percentage\n",
    "    stockHist_2['Log returns'] = np.log(stockHist_2['Close'] / stockHist_2['Close'].shift())\n",
    "    volatility_2 = stockHist_2['Log returns'].std() * 252 ** 0.5\n",
    "    stockHist_10['Log returns'] = np.log(stockHist_10['Close'] / stockHist_10['Close'].shift())\n",
    "    volatility_10 = stockHist_10['Log returns'].std() * 252 ** 0.5\n",
    "    # calculates a weighted average for volatility based on the average volatility over the last 2 years\n",
    "    # and over the last 10 years\n",
    "    # volatility over last 2 years: 25%, volatility over last 10 years: 75%\n",
    "    volatility = ((volatility_2 * 0.25) + (volatility_10 * 0.75))\n",
    "    \n",
    "    # calculates the average return of the stock\n",
    "    meanReturn_2 = stockHist_2['Log returns'].mean() * 252\n",
    "    meanReturn_10 = stockHist_10['Log returns'].mean() * 252\n",
    "    # finds a weighted average for return based on the average return over the last 2 years and \n",
    "    # over the last 10 years\n",
    "    # return over last 2 years: 25%, return over last 10 years: 75%\n",
    "    meanReturn = (meanReturn_2 * 0.25) + (meanReturn_10 * 0.75)\n",
    "    # uses mean return and volatility to calculate sharpe ratio\n",
    "    # assumes risk-free rate of return is 0\n",
    "    sharpeRatio = meanReturn / volatility\n",
    "\n",
    "    # finds covariance by comparing the stock to the S&P 500 index using data over the last 10 years\n",
    "    # organizes price data\n",
    "    prices = pd.DataFrame(stockHist_10['Close'])\n",
    "    prices.columns = ['Stock']\n",
    "    prices['index'] = indexHist['Close']\n",
    "    # calculates stock's correlation to S&P 500 index\n",
    "    covariance = prices.corr()\n",
    "    corr = float(covariance.iloc[0, 1])\n",
    "\n",
    "    # calculates the stock's percent difference from its Two Hundred Day Moving Average to its current price\n",
    "    price_average = stockInfo[\"twoHundredDayAverage\"]\n",
    "    percent_difference = (price - price_average) / price_average\n",
    "\n",
    "    # uses all 4 factors to assign a final score to each ticker:\n",
    "    # Volatility: 45%\n",
    "    # Sharpe Ratio: 40%\n",
    "    # Correlation: 10%\n",
    "    # Moving Day Price Average: 5%\n",
    "    score = ((1 - volatility) * 0.45) + (sharpeRatio * 0.4) + (corr * 0.1) + ((1 - percent_difference) * 0.05)\n",
    "    return score"
   ]
  },
  {
   "cell_type": "code",
   "execution_count": null,
   "metadata": {},
   "outputs": [],
   "source": [
    "score_lst = []\n",
    "price_lst = []\n",
    "\n",
    "# gets data for each ticker and S&P 500 in order to calculate a score for each stock\n",
    "def getStockData(ticker):\n",
    "    # finds stock data over last 2 and 10 years respectively \n",
    "    stock = yf.Ticker(ticker)\n",
    "    stockInfo = stock.info\n",
    "    stockHist_2 = stock.history(period=\"2y\")\n",
    "    stockHist_10 = stock.history(period=\"10y\")\n",
    "    # gets the stock's current price and appends it to a list of prices\n",
    "    price = stock.history(start=\"2021-11-26\", end=\"2021-11-27\")\n",
    "    \n",
    "    ### NEW CODE(price[\"Close\"] is a dataframe, so we use a float to convert it to a number)\n",
    "    price = float(price[\"Close\"])\n",
    "    \n",
    "    price_lst.append(price)\n",
    "    # finds data for S&P 500 index over last 10 years\n",
    "    index = yf.Ticker('^GSPC')\n",
    "    indexHist = index.history(period=\"10y\")  # Time period used to calculate the covariance\n",
    "    # calculates a final score for each stock and appends it to a list of scores\n",
    "    score_lst.append(calculateScore(stockInfo, stockHist_2, stockHist_10, price, indexHist))\n",
    "\n",
    "for ticker in filterTickers:\n",
    "    getStockData(ticker)"
   ]
  },
  {
   "cell_type": "code",
   "execution_count": null,
   "metadata": {},
   "outputs": [],
   "source": [
    "# Already get one list of tickers(filterTickers), and one list of score(score_lst), and one list of current prices of those stocks\n",
    "# We want to find the 20 stocks with the highest score, and find their corresponding current price and give them the weight\n",
    "# create one list to store the stock with highest score to the stock with the 20th highest score (chosen_tickers)\n",
    "# the weight should be (6.9%+6.7%+ ...3.3%+3.1%=100%), corresponding to stocks of highest score to stocks of lowest score(among 20 stocks we choose)\n",
    "# In list \"chosen_weights\", there will be a list of numbers from 0.069, to 0.031(20 numbers)\n",
    "# Then get the corresponding current price for those 20 stocks\n",
    "\n",
    "chosen_tickers = []\n",
    "chosen_weights = []\n",
    "chosen_prices = []\n",
    "chosen_scores = []\n",
    "maxWeight=0.069\n",
    "\n",
    "#NEW CODE -- Just Variables\n",
    "#saving these values to a different variable as we will need to drop some of the elements\n",
    "save_score_lst=score_lst.copy()\n",
    "save_price_lst=price_lst.copy()\n",
    "save_filterTickers=filterTickers.copy()\n",
    "\n",
    "for i in range(20):\n",
    "    max_score = max(score_lst)\n",
    "    max_index = score_lst.index(max_score)\n",
    "    chosen_tickers.append(filterTickers[max_index])\n",
    "    chosen_weights.append(maxWeight)\n",
    "    chosen_prices.append(price_lst[max_index])\n",
    "    chosen_scores.append(score_lst[max_index])\n",
    "    score_lst.pop(max_index)\n",
    "    filterTickers.pop(max_index)\n",
    "    price_lst.pop(max_index)\n",
    "    maxWeight -= 0.002\n",
    "    maxWeight = round(maxWeight, 3)"
   ]
  },
  {
   "cell_type": "code",
   "execution_count": null,
   "metadata": {
    "scrolled": true
   },
   "outputs": [],
   "source": [
    "save_score_lst"
   ]
  },
  {
   "cell_type": "code",
   "execution_count": null,
   "metadata": {},
   "outputs": [],
   "source": [
    "# Starting value of $100,000\n",
    "initial_investment=100000\n",
    "# Create a dataframe called FinalPortfolio by using the list chosen_tickers\n",
    "FinalPortfolio = pd.DataFrame(chosen_tickers)\n",
    "# Change the column name\n",
    "FinalPortfolio.columns=[\"Ticker\"]\n",
    "# Add another column, the current price of each stock, into the dataframe\n",
    "FinalPortfolio[\"Price\"]=chosen_prices\n",
    "chosen_weights=list(chosen_weights)\n",
    "FinalPortfolio['Shares']=0\n",
    "FinalPortfolio\n",
    "for i in range(len(FinalPortfolio['Price'])):\n",
    "    FinalPortfolio[\"Shares\"].iloc[i]=initial_investment/FinalPortfolio[\"Price\"].iloc[i]*chosen_weights[i]\n",
    "FinalPortfolio['Value']=FinalPortfolio[\"Shares\"]*FinalPortfolio[\"Price\"]\n",
    "FinalPortfolio['Weight']=chosen_weights\n",
    "FinalPortfolio.index = np.arange(1,len(FinalPortfolio)+1)"
   ]
  },
  {
   "cell_type": "code",
   "execution_count": null,
   "metadata": {},
   "outputs": [],
   "source": [
    "#Creating variable for total portfoliio weight to confirm the total weight is 100\n",
    "totalWeight=FinalPortfolio[\"Weight\"].sum()\n",
    "print(\"Your total overall portfolio weighting is \" + str(totalWeight))\n",
    "#creating variable for overall portfolio value to confirm it is $100000\n",
    "totalValue=FinalPortfolio['Value'].sum()\n",
    "print(\"Your total overall value weighting is $\" + str(totalValue))"
   ]
  },
  {
   "cell_type": "code",
   "execution_count": null,
   "metadata": {},
   "outputs": [],
   "source": [
    "######## Creating the portfolio \n",
    "# The input is a DataFrame containing columns Ticker, Price, Shares, Value, Weight(eg FinalPortfolio)\n",
    "# The function outputs another DataFrame containing only the portfolio value created by the input stocks and back in 3 years\n",
    "# We make the initial investment to be $100,000 three years ago, and track the portfolio value change back in the past 3 years\n",
    "def portfoliovalue(finalportfolio):\n",
    "    PortfolioHistory=pd.DataFrame()\n",
    "    PortfolioValue=pd.DataFrame()\n",
    "    shares=0\n",
    "    for i in range(len(finalportfolio)):\n",
    "        stock = yf.Ticker(finalportfolio.iloc[i, 0])\n",
    "        stockHist_3=stock.history(period='3y').resample('MS').first()\n",
    "        shares=initial_investment/stockHist_3.Close[0]*chosen_weights[i]\n",
    "        PortfolioHistory[finalportfolio.iloc[i, 0]] = stockHist_3.Close*shares\n",
    "    PortfolioValue[\"Value\"] = PortfolioHistory.sum(axis=1)\n",
    "    return PortfolioValue"
   ]
  },
  {
   "cell_type": "code",
   "execution_count": null,
   "metadata": {},
   "outputs": [],
   "source": [
    "# Find the 10 stocks with the lowest score and create a dataframe for it(the same as FinalPortfolio)\n",
    "\n",
    "min_chosen_tickers = []\n",
    "min_chosen_prices = []\n",
    "min_chosen_weight = [0.1, 0.1, 0.1, 0.1, 0.1, 0.1, 0.1, 0.1, 0.1, 0.1]\n",
    "\n",
    "#variable names were replaced with new variables as referenced above as new code\n",
    "for i in range(10):\n",
    "    min_score = min(save_score_lst)\n",
    "    min_index = save_score_lst.index(min_score)\n",
    "    min_chosen_tickers.append(save_filterTickers[min_index])\n",
    "    min_chosen_prices.append(save_price_lst[min_index])\n",
    "    save_score_lst.pop(min_index)\n",
    "    save_filterTickers.pop(min_index)\n",
    "    save_price_lst.pop(min_index)\n",
    "\n",
    "# Starting value of $100,000\n",
    "initial_investment=100000\n",
    "# Create a dataframe called riskyPortfolio by using the list chosen_tickers\n",
    "riskyPortfolio = pd.DataFrame(min_chosen_tickers)\n",
    "# Change the column name\n",
    "riskyPortfolio.columns=[\"Ticker\"]\n",
    "# Add another column, the current price of each stock, into the dataframe\n",
    "riskyPortfolio[\"Price\"]=min_chosen_prices\n",
    "riskyPortfolio['Shares']=0\n",
    "min_chosen_weight = list(min_chosen_weight)\n",
    "for i in range(len(riskyPortfolio['Price'])):\n",
    "    riskyPortfolio[\"Shares\"].iloc[i]=initial_investment/riskyPortfolio[\"Price\"].iloc[i]*min_chosen_weight[i]\n",
    "riskyPortfolio['Value']=riskyPortfolio[\"Shares\"]*riskyPortfolio[\"Price\"]\n",
    "riskyPortfolio['Weight']=min_chosen_weight\n",
    "riskyPortfolio.index = np.arange(1,len(riskyPortfolio)+1)"
   ]
  },
  {
   "cell_type": "markdown",
   "metadata": {},
   "source": [
    "Our portfolio, consisting of the stocks with the highest 20 scores, focuses on maintaining a low volatility/standard deviation as that indicator makes up 45% of our portfolio and has further influence in  the calculation of the sharpe ratio. Therefore, as the data proves, our portfolio has a much lower volatility than the ten worst performing stocks in the list of tickers, calculated based off our four indicators for safe stocks. In addition our sharp ratio is much higher for our Final Portfolio compared to the portfolio of the stocks with the ten lowest scores due to factoring the sharpe ratio values into our model as can be seen below."
   ]
  },
  {
   "cell_type": "code",
   "execution_count": null,
   "metadata": {},
   "outputs": [],
   "source": [
    "Standard_deviation_FinalPortfolio = portfoliovalue(FinalPortfolio).pct_change().std()\n",
    "Sharpe_ratio_FinalPortfolio = portfoliovalue(FinalPortfolio).pct_change().mean() / portfoliovalue(FinalPortfolio).pct_change().std()\n",
    "print(\"For the FinalPortfolio, the standard deviation is\",float(Standard_deviation_FinalPortfolio),\", and the Sharpe ratio is\", float(Sharpe_ratio_FinalPortfolio),\".\")\n"
   ]
  },
  {
   "cell_type": "code",
   "execution_count": null,
   "metadata": {},
   "outputs": [],
   "source": [
    "Standard_deviation_riskyPortfolio = portfoliovalue(riskyPortfolio).pct_change().std()\n",
    "Sharpe_ratio_riskyPortfolio = portfoliovalue(riskyPortfolio).pct_change().mean() / portfoliovalue(riskyPortfolio).pct_change().std()\n",
    "print(\"For a riskier portfolio with equal weightings for the stocks with the 10 lowest scores, the standard deviation is\",float(Standard_deviation_riskyPortfolio), \", and the Sharpe ratio is\", float(Sharpe_ratio_riskyPortfolio),\".\")"
   ]
  },
  {
   "cell_type": "markdown",
   "metadata": {},
   "source": [
    "We can also check the standard deviation and Sharpe ratio of S&P 500 as benchmarks."
   ]
  },
  {
   "cell_type": "code",
   "execution_count": null,
   "metadata": {},
   "outputs": [],
   "source": [
    "SP500 = yf.Ticker('^GSPC')\n",
    "SP500hist = SP500.history(period='3y').resample('MS').first()\n",
    "\n",
    "Standard_deviation_SP500hist = SP500hist.Close.pct_change().std()\n",
    "Sharpe_ratio_SP500hist = SP500hist.Close.pct_change().mean()/SP500hist.Close.pct_change().std()\n",
    "print(\"For the S&P 500, the standard deviation is\",float(Standard_deviation_SP500hist),\", and the Sharpe ratio is\", float(Sharpe_ratio_SP500hist),\".\")"
   ]
  },
  {
   "cell_type": "code",
   "execution_count": null,
   "metadata": {},
   "outputs": [],
   "source": [
    "#calculating the beta\n",
    "MarketIndex='^GSPC' #This is the symbol yfinance uses for the S&P 500\n",
    "Ticker2 = yf.Ticker(MarketIndex)\n",
    "\n",
    "#putting start and end date for getting s and p 500\n",
    "start_date = '2017-01-01'\n",
    "end_date = '2021-11-26'\n",
    "\n",
    "MarketIndex_hist = Ticker2.history(start=start_date, end=end_date)\n",
    "MarketIndex_hist= MarketIndex_hist.resample('MS').first()\n",
    "#putting value/price of s and p 500 and final portfolio in one dataframe\n",
    "prices = pd.DataFrame(portfoliovalue(FinalPortfolio)['Value'])\n",
    "prices.columns = [\"Final Portfolio\"]\n",
    "prices[MarketIndex] = MarketIndex_hist['Close']\n",
    "prices.drop(index=prices.index[0], inplace=True)\n",
    "\n",
    "#calculating percentage change and dropping the first value\n",
    "monthly_returns=prices.resample('MS').ffill().pct_change()\n",
    "monthly_returns.drop(index=monthly_returns.index[0], inplace=True)\n",
    "\n",
    "#calculating the market variance \n",
    "MarketVar= monthly_returns[MarketIndex].var()\n",
    "\n",
    "\n",
    "#calculating beta by taking a covariance \n",
    "Beta=monthly_returns.cov()/MarketVar\n",
    "print(\"Beta:\")\n",
    "print(Beta)\n",
    "\n",
    "\n",
    "print('The Final Portfolio Beta is: ', Beta.iat[0,1])\n",
    "print('The Beta of the Market is: ', Beta.iat[1,1])"
   ]
  },
  {
   "cell_type": "markdown",
   "metadata": {},
   "source": [
    "Graph for correlation:  \n",
    "\n",
    "This is an example of a stock and its correlation with the S and P 500 in our portfolio. Based on its movements, it seems to be positively correlated with the S and P 500 although not completely. Stocks with similar trajectories to the S and P 500’s movements may suggest that they are safer and less volatile as it has similar trends with the index.  "
   ]
  },
  {
   "cell_type": "code",
   "execution_count": null,
   "metadata": {},
   "outputs": [],
   "source": [
    "# Example of correlation between a stock in our portfolio and S&P 500\n",
    "Stock1=chosen_tickers[0]\n",
    "Stock2='^GSPC'\n",
    "Ticker1 = yf.Ticker(Stock1)\n",
    "Ticker2 = yf.Ticker(Stock2)\n",
    "\n",
    "# Look at past 10 years\n",
    "start_date = '2011-11-26'\n",
    "end_date = '2021-11-26'\n",
    "\n",
    "#get stock history\n",
    "Stock1_hist = Ticker1.history(start=start_date, end=end_date)\n",
    "Stock2_hist = Ticker2.history(start=start_date, end=end_date)\n",
    "\n",
    "#get close prices\n",
    "prices = pd.DataFrame(Stock1_hist['Close'])\n",
    "prices.columns = [Stock1]\n",
    "prices[Stock2] = Stock2_hist['Close']\n",
    "prices.head()\n",
    "\n",
    "#Calculate the monthly returns from the price dataFrame.\n",
    "monthly_returns=prices.resample('MS').first().pct_change()\n",
    "monthly_returns.drop(index=monthly_returns.index[0], inplace=True)\n",
    "monthly_returns.head()\n",
    "\n",
    "#plot graph\n",
    "plt.figure(figsize=(20,15))\n",
    "\n",
    "#plot the lines\n",
    "plt.plot(monthly_returns.index,monthly_returns[Stock1], color='b', label=Stock1)\n",
    "plt.plot(monthly_returns.index,monthly_returns[Stock2], color='r', label=Stock2)\n",
    "\n",
    "#legend\n",
    "plt.legend(loc='best')\n",
    "\n",
    "#titles and labels\n",
    "plt.title(\"Comparison in Percentage Change of S and P 500 vs \" + str(Stock1))\n",
    "plt.xlabel('Date')\n",
    "plt.ylabel('Percent Change (%)')\n",
    "\n",
    "plt.show()\n",
    "\n",
    "\n",
    "# create new cell\n",
    "print('Correlation:')\n",
    "print(monthly_returns.corr())"
   ]
  },
  {
   "cell_type": "markdown",
   "metadata": {},
   "source": [
    "Graph for overall portfolio: \n",
    "\n",
    "As you can see our portfolio generally has had a similar trend compared to the S and P 500 in the past 3 years, suggesting that our portfolio is quite safe with most of non-systematic risk removed. It supports our constructed models in creating a safe portfolio. Generally the growth is overall quite smooth with very little abrupt movements. "
   ]
  },
  {
   "cell_type": "code",
   "execution_count": null,
   "metadata": {},
   "outputs": [],
   "source": [
    "#graphing our final portfolio vs S and P 500 vs a portfolio containing the 10 stocks with the lowest scores\n",
    "\n",
    "#Market index value recalculated with initial investment\n",
    "MarketIndex_hist=Ticker2.history(period='3y').resample('MS').first()\n",
    "MarketIndexShares=initial_investment/MarketIndex_hist.Close[0]\n",
    "#History for recalculated shares of market index\n",
    "MarketIndexNewHist=pd.DataFrame(MarketIndex_hist.Close*MarketIndexShares)\n",
    "MarketIndexNewHist.columns=[\"Value\"]\n",
    "\n",
    "#creating the graphs\n",
    "plt.plot(portfoliovalue(FinalPortfolio).index, portfoliovalue(FinalPortfolio)['Value'], marker='o', label='Final Portfolio')\n",
    "plt.plot(MarketIndexNewHist.index, MarketIndexNewHist['Value'], marker='o', label='Market Index')\n",
    "#labels\n",
    "plt.title('Final Portfolio Value Compared to Recalculated S and P 500')\n",
    "plt.xlabel('Date')\n",
    "plt.ylabel('Value')\n",
    "plt.xticks(rotation=50)\n",
    "#legend\n",
    "plt.legend(loc='best')\n",
    "plt.show()"
   ]
  },
  {
   "cell_type": "code",
   "execution_count": null,
   "metadata": {},
   "outputs": [],
   "source": [
    "FinalPortfolio"
   ]
  },
  {
   "cell_type": "code",
   "execution_count": null,
   "metadata": {},
   "outputs": [],
   "source": [
    "Stocks=pd.DataFrame(FinalPortfolio[\"Ticker\"])\n",
    "Stocks[\"Shares\"]=FinalPortfolio[\"Shares\"]\n",
    "Stocks"
   ]
  },
  {
   "cell_type": "code",
   "execution_count": null,
   "metadata": {},
   "outputs": [],
   "source": [
    "portfolio_saved_file = Stocks.to_csv('Stocks_Group_11.csv')\n",
    "portfolio_saved_file"
   ]
  },
  {
   "cell_type": "markdown",
   "metadata": {},
   "source": [
    "## Contribution Declaration\n",
    "\n",
    "The following team members made a meaningful contribution to this assignment:\n",
    "\n",
    "Richard Yang, Soham Basu, William Zhang"
   ]
  },
  {
   "cell_type": "markdown",
   "metadata": {},
   "source": [
    "<font color='red'> We had originally encountered runtime issues with our submitted code. Therefore, we added threading by replacing our first for loop that produced the list filterTickers as a function (this does not change the actual output of the code, only speeds it up). \n",
    "    \n",
    "The second thing we changed was to account for duplicate tickers in our tickers file, which we did by using the following line of code: \"filterTickers = list(dict.fromkeys(filterTickers))\".\n",
    "    \n",
    "The third thing we changed was the way that our price data was being outputted. Originally, it was outputting the price as a dataframe, which was causing problems calculating the values in score_lst. We have added one line of code that now outputs the closing price on November 26th as a number, which allows score_lst to produce its intended output (a list of numbers that are scores), rather than a list of dataframes. \n",
    "    \n",
    "The fourth thing we changed was storing our original data before we pop the following variables in our for loop to find the top 20 scores in our portfolio (popped values in score_lst, price_lst, and filterTickers). We added new variables to store these original values: (save_score_lst, save_price_lst, save_filterTickers). We then changed our function for calculating the 10 stocks with the lowest score to use these new stored values instead (save_score_lst, save_price_lst, save_filterTickers).\n",
    "</font> "
   ]
  }
 ],
 "metadata": {
  "kernelspec": {
   "display_name": "Python 3",
   "language": "python",
   "name": "python3"
  },
  "language_info": {
   "codemirror_mode": {
    "name": "ipython",
    "version": 3
   },
   "file_extension": ".py",
   "mimetype": "text/x-python",
   "name": "python",
   "nbconvert_exporter": "python",
   "pygments_lexer": "ipython3",
   "version": "3.8.8"
  }
 },
 "nbformat": 4,
 "nbformat_minor": 4
}
